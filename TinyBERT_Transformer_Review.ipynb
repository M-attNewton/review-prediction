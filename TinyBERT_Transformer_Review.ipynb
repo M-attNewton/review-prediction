{
 "cells": [
  {
   "cell_type": "markdown",
   "metadata": {},
   "source": [
    "# Resturant Review Sentiment - Transformer\n",
    "### Matthew Newton\n",
    "* Can a transformer model provide better results?\n",
    "* Imported an existing LLM for review classification \"huawei-noah/TinyBERT_General_4L_312D\" for huggingface.\n",
    "* Tune model on training data.\n",
    "* The training data will be input into this model to predict the review scores."
   ]
  },
  {
   "cell_type": "code",
   "execution_count": 38,
   "metadata": {},
   "outputs": [],
   "source": [
    "import pandas as pd\n",
    "import pickle\n",
    "import numpy as np\n",
    "\n",
    "import torch\n",
    "import torch.nn as nn\n",
    "from torch.optim.lr_scheduler import StepLR\n",
    "from torch.utils.data import DataLoader, Dataset, TensorDataset\n",
    "\n",
    "from transformers import BertTokenizer, BertForSequenceClassification\n",
    "from transformers import BertTokenizerFast, DistilBertTokenizerFast, DistilBertForSequenceClassification\n",
    "from transformers import AdamW\n",
    "\n",
    "from sklearn.model_selection import train_test_split\n",
    "from sklearn.metrics import classification_report, accuracy_score, confusion_matrix\n",
    "\n",
    "import warnings\n",
    "warnings.filterwarnings(\"ignore\")"
   ]
  },
  {
   "cell_type": "code",
   "execution_count": 39,
   "metadata": {},
   "outputs": [],
   "source": [
    "df_review = pd.read_pickle(\"./cleaned_data/reviews_cleaned_nltk.pickle\")"
   ]
  },
  {
   "cell_type": "code",
   "execution_count": 40,
   "metadata": {},
   "outputs": [],
   "source": [
    "# Split training data into train data, cross validation and test data\n",
    "df_long = df_review\n",
    "df_review = df_review.dropna()\n",
    "df_review['text'] = df_review['title'] + \" \" + df_review['text']\n",
    "df_review = df_review[:1000]\n",
    "features = ['text']\n",
    "#features = ['text', 'title', 'type', 'priceInterval', 'date', 'review_length', 'rest_rating']\n",
    "X_train, X_cv, y_train, y_cv = train_test_split(df_review[features], df_review['rating'], test_size = 0.30, random_state = 0)\n",
    "X_cv, X_test, y_cv, y_test = train_test_split(X_cv[features], y_cv, test_size = 0.50, random_state = 0)"
   ]
  },
  {
   "cell_type": "code",
   "execution_count": 41,
   "metadata": {},
   "outputs": [],
   "source": [
    "y_train = np.array(y_train) - 1\n",
    "y_cv = np.array(y_cv) - 1\n",
    "y_test = np.array(y_test) - 1"
   ]
  },
  {
   "cell_type": "code",
   "execution_count": 42,
   "metadata": {},
   "outputs": [
    {
     "name": "stderr",
     "output_type": "stream",
     "text": [
      "Some weights of BertForSequenceClassification were not initialized from the model checkpoint at huawei-noah/TinyBERT_General_4L_312D and are newly initialized: ['classifier.bias', 'classifier.weight']\n",
      "You should probably TRAIN this model on a down-stream task to be able to use it for predictions and inference.\n"
     ]
    },
    {
     "data": {
      "text/plain": [
       "BertForSequenceClassification(\n",
       "  (bert): BertModel(\n",
       "    (embeddings): BertEmbeddings(\n",
       "      (word_embeddings): Embedding(30522, 312, padding_idx=0)\n",
       "      (position_embeddings): Embedding(512, 312)\n",
       "      (token_type_embeddings): Embedding(2, 312)\n",
       "      (LayerNorm): LayerNorm((312,), eps=1e-12, elementwise_affine=True)\n",
       "      (dropout): Dropout(p=0.1, inplace=False)\n",
       "    )\n",
       "    (encoder): BertEncoder(\n",
       "      (layer): ModuleList(\n",
       "        (0-3): 4 x BertLayer(\n",
       "          (attention): BertAttention(\n",
       "            (self): BertSdpaSelfAttention(\n",
       "              (query): Linear(in_features=312, out_features=312, bias=True)\n",
       "              (key): Linear(in_features=312, out_features=312, bias=True)\n",
       "              (value): Linear(in_features=312, out_features=312, bias=True)\n",
       "              (dropout): Dropout(p=0.1, inplace=False)\n",
       "            )\n",
       "            (output): BertSelfOutput(\n",
       "              (dense): Linear(in_features=312, out_features=312, bias=True)\n",
       "              (LayerNorm): LayerNorm((312,), eps=1e-12, elementwise_affine=True)\n",
       "              (dropout): Dropout(p=0.1, inplace=False)\n",
       "            )\n",
       "          )\n",
       "          (intermediate): BertIntermediate(\n",
       "            (dense): Linear(in_features=312, out_features=1200, bias=True)\n",
       "            (intermediate_act_fn): GELUActivation()\n",
       "          )\n",
       "          (output): BertOutput(\n",
       "            (dense): Linear(in_features=1200, out_features=312, bias=True)\n",
       "            (LayerNorm): LayerNorm((312,), eps=1e-12, elementwise_affine=True)\n",
       "            (dropout): Dropout(p=0.1, inplace=False)\n",
       "          )\n",
       "        )\n",
       "      )\n",
       "    )\n",
       "    (pooler): BertPooler(\n",
       "      (dense): Linear(in_features=312, out_features=312, bias=True)\n",
       "      (activation): Tanh()\n",
       "    )\n",
       "  )\n",
       "  (dropout): Dropout(p=0.1, inplace=False)\n",
       "  (classifier): Linear(in_features=312, out_features=5, bias=True)\n",
       ")"
      ]
     },
     "execution_count": 42,
     "metadata": {},
     "output_type": "execute_result"
    }
   ],
   "source": [
    "# Load the tokenizer and model\n",
    "tokenizer = BertTokenizerFast.from_pretrained('huawei-noah/TinyBERT_General_4L_312D')\n",
    "model = BertForSequenceClassification.from_pretrained('huawei-noah/TinyBERT_General_4L_312D', num_labels=5)\n",
    "\n",
    "device = torch.device('cuda' if torch.cuda.is_available() else 'cpu')\n",
    "model.to(device)"
   ]
  },
  {
   "cell_type": "code",
   "execution_count": 43,
   "metadata": {},
   "outputs": [],
   "source": [
    "# Tokenize the data\n",
    "def tokenize_data(texts, labels=None, max_len=128):\n",
    "    encodings = tokenizer(\n",
    "        texts.tolist(), \n",
    "        truncation=True, \n",
    "        padding=True, \n",
    "        max_length=max_len, \n",
    "        return_tensors='pt'\n",
    "    )\n",
    "    \n",
    "    input_ids = encodings['input_ids']\n",
    "    attention_masks = encodings['attention_mask']\n",
    "\n",
    "    if labels is not None:\n",
    "        labels = torch.tensor(labels, dtype=torch.long)\n",
    "        return input_ids, attention_masks, labels\n",
    "    return input_ids, attention_masks\n",
    "\n",
    "# Apply tokenization\n",
    "train_inputs, train_masks, train_labels = tokenize_data(X_train['text'], y_train)\n",
    "val_inputs, val_masks, val_labels = tokenize_data(X_cv['text'], y_cv)\n",
    "test_inputs, test_masks = tokenize_data(X_test['text'])  # Test set doesn't have labels"
   ]
  },
  {
   "cell_type": "code",
   "execution_count": 44,
   "metadata": {},
   "outputs": [],
   "source": [
    "# Create datasets\n",
    "train_dataset = TensorDataset(train_inputs, train_masks, train_labels)\n",
    "val_dataset = TensorDataset(val_inputs, val_masks, val_labels)\n",
    "\n",
    "# Create dataloaders\n",
    "batch_size = 16\n",
    "train_dataloader = DataLoader(train_dataset, batch_size=batch_size, shuffle=True)\n",
    "val_dataloader = DataLoader(val_dataset, batch_size=batch_size, shuffle=False)"
   ]
  },
  {
   "cell_type": "code",
   "execution_count": 45,
   "metadata": {},
   "outputs": [],
   "source": [
    "# Define optimizer and loss function\n",
    "optimizer = AdamW(model.parameters(), lr=2e-4)\n",
    "criterion = nn.CrossEntropyLoss()\n",
    "\n",
    "# Training function\n",
    "def train_model(model, train_dataloader, val_dataloader, epochs=4):\n",
    "    model.train()\n",
    "\n",
    "    for epoch in range(epochs):\n",
    "        total_train_loss = 0\n",
    "        total_train_correct = 0\n",
    "        for step, batch in enumerate(train_dataloader):\n",
    "            input_ids, attention_masks, labels = tuple(b.to(device) for b in batch)\n",
    "            \n",
    "            # Forward pass\n",
    "            outputs = model(input_ids, attention_mask=attention_masks)\n",
    "            loss = criterion(outputs.logits, labels)\n",
    "\n",
    "            # Backward pass\n",
    "            optimizer.zero_grad()\n",
    "            loss.backward()\n",
    "            optimizer.step()\n",
    "\n",
    "            # Accumulate training loss\n",
    "            total_train_loss += loss.item()\n",
    "            preds = torch.argmax(outputs.logits, dim=1)\n",
    "            total_train_correct += torch.sum(preds == labels).item()\n",
    "\n",
    "        # Evaluate after each epoch\n",
    "        avg_train_loss = total_train_loss / len(train_dataloader)\n",
    "        avg_train_acc = total_train_correct / len(train_dataset)\n",
    "\n",
    "        print(f\"Epoch {epoch+1}/{epochs}, Train Loss: {avg_train_loss:.4f}, Train Acc: {avg_train_acc:.4f}\")\n",
    "        evaluate_model(model, val_dataloader)\n",
    "\n",
    "# Evaluation function\n",
    "def evaluate_model(model, dataloader):\n",
    "    model.eval()\n",
    "    total_eval_loss = 0\n",
    "    total_eval_correct = 0\n",
    "\n",
    "    with torch.no_grad():\n",
    "        for batch in dataloader:\n",
    "            input_ids, attention_masks, labels = tuple(b.to(device) for b in batch)\n",
    "\n",
    "            outputs = model(input_ids, attention_mask=attention_masks)\n",
    "            loss = criterion(outputs.logits, labels)\n",
    "\n",
    "            total_eval_loss += loss.item()\n",
    "            preds = torch.argmax(outputs.logits, dim=1)\n",
    "            total_eval_correct += torch.sum(preds == labels).item()\n",
    "\n",
    "    avg_val_loss = total_eval_loss / len(dataloader)\n",
    "    avg_val_acc = total_eval_correct / len(val_dataset)\n",
    "\n",
    "    print(f\"Validation Loss: {avg_val_loss:.4f}, Validation Acc: {avg_val_acc:.4f}\")\n"
   ]
  },
  {
   "cell_type": "code",
   "execution_count": 46,
   "metadata": {},
   "outputs": [
    {
     "name": "stdout",
     "output_type": "stream",
     "text": [
      "Epoch 1/10, Train Loss: 1.2885, Train Acc: 0.4957\n",
      "Validation Loss: 1.0448, Validation Acc: 0.5733\n",
      "Epoch 2/10, Train Loss: 1.0004, Train Acc: 0.5786\n",
      "Validation Loss: 1.0207, Validation Acc: 0.5933\n",
      "Epoch 3/10, Train Loss: 0.8664, Train Acc: 0.6243\n",
      "Validation Loss: 0.9067, Validation Acc: 0.6400\n",
      "Epoch 4/10, Train Loss: 0.6802, Train Acc: 0.7143\n",
      "Validation Loss: 1.1274, Validation Acc: 0.6133\n",
      "Epoch 5/10, Train Loss: 0.4973, Train Acc: 0.8000\n",
      "Validation Loss: 1.2625, Validation Acc: 0.6133\n",
      "Epoch 6/10, Train Loss: 0.3598, Train Acc: 0.8486\n",
      "Validation Loss: 1.1639, Validation Acc: 0.5867\n",
      "Epoch 7/10, Train Loss: 0.2660, Train Acc: 0.9086\n",
      "Validation Loss: 1.4524, Validation Acc: 0.5667\n",
      "Epoch 8/10, Train Loss: 0.2270, Train Acc: 0.9186\n",
      "Validation Loss: 1.3212, Validation Acc: 0.5800\n",
      "Epoch 9/10, Train Loss: 0.1924, Train Acc: 0.9286\n",
      "Validation Loss: 1.3498, Validation Acc: 0.6000\n",
      "Epoch 10/10, Train Loss: 0.1233, Train Acc: 0.9600\n",
      "Validation Loss: 1.3376, Validation Acc: 0.6467\n"
     ]
    }
   ],
   "source": [
    "# Train the model\n",
    "train_model(model, train_dataloader, val_dataloader, epochs=10)"
   ]
  },
  {
   "cell_type": "code",
   "execution_count": 47,
   "metadata": {},
   "outputs": [],
   "source": [
    "def predict(model, dataloader):\n",
    "    model.eval()\n",
    "    predictions = []\n",
    "\n",
    "    with torch.no_grad():\n",
    "        for batch in dataloader:\n",
    "            input_ids, attention_masks = tuple(b.to(device) for b in batch)\n",
    "            outputs = model(input_ids, attention_mask=attention_masks)\n",
    "            preds = torch.argmax(outputs.logits, dim=1)\n",
    "            predictions.extend(preds.cpu().numpy())\n",
    "\n",
    "    return np.array(predictions)\n",
    "\n",
    "# Predict on the test set\n",
    "test_dataloader = DataLoader(TensorDataset(test_inputs, test_masks), batch_size=batch_size, shuffle=False)\n",
    "test_predictions = predict(model, test_dataloader)"
   ]
  },
  {
   "cell_type": "code",
   "execution_count": 48,
   "metadata": {},
   "outputs": [
    {
     "name": "stdout",
     "output_type": "stream",
     "text": [
      "Accuracy: 0.58\n",
      "\n",
      "Classification Report:\n",
      "               precision    recall  f1-score   support\n",
      "\n",
      "           0       0.00      0.00      0.00         0\n",
      "           1       0.14      0.25      0.18         4\n",
      "           2       0.35      0.40      0.38        15\n",
      "           3       0.60      0.53      0.56        59\n",
      "           4       0.71      0.68      0.70        72\n",
      "\n",
      "    accuracy                           0.58       150\n",
      "   macro avg       0.36      0.37      0.36       150\n",
      "weighted avg       0.61      0.58      0.60       150\n",
      "\n",
      "\n",
      "Confusion Matrix:\n",
      " [[ 0  0  0  0  0]\n",
      " [ 3  1  0  0  0]\n",
      " [ 2  5  6  1  1]\n",
      " [ 0  1  8 31 19]\n",
      " [ 0  0  3 20 49]]\n"
     ]
    }
   ],
   "source": [
    "# Evaluation metrics\n",
    "print(\"Accuracy:\", accuracy_score(test_predictions, y_test))\n",
    "print(\"\\nClassification Report:\\n\", classification_report(test_predictions, y_test))\n",
    "print(\"\\nConfusion Matrix:\\n\", confusion_matrix(test_predictions, y_test))"
   ]
  },
  {
   "cell_type": "code",
   "execution_count": 49,
   "metadata": {},
   "outputs": [
    {
     "data": {
      "image/png": "[encoded data removed]",
      "text/plain": [
       "<Figure size 800x600 with 2 Axes>"
      ]
     },
     "metadata": {},
     "output_type": "display_data"
    }
   ],
   "source": [
    "import seaborn as sns\n",
    "import matplotlib.pyplot as plt\n",
    "\n",
    "plt.figure(figsize=(8, 6))\n",
    "sns.heatmap(confusion_matrix(test_predictions, y_test), annot=True, fmt='d', cmap='Blues')\n",
    "plt.ylabel('True Label')\n",
    "plt.xlabel('Predicted Label')\n",
    "plt.show()"
   ]
  },
  {
   "cell_type": "code",
   "execution_count": null,
   "metadata": {},
   "outputs": [],
   "source": []
  },
  {
   "cell_type": "code",
   "execution_count": null,
   "metadata": {},
   "outputs": [],
   "source": []
  }
 ],
 "metadata": {
  "kernelspec": {
   "display_name": "Python 3 (ipykernel)",
   "language": "python",
   "name": "python3"
  },
  "language_info": {
   "codemirror_mode": {
    "name": "ipython",
    "version": 3
   },
   "file_extension": ".py",
   "mimetype": "text/x-python",
   "name": "python",
   "nbconvert_exporter": "python",
   "pygments_lexer": "ipython3",
   "version": "3.12.4"
  }
 },
 "nbformat": 4,
 "nbformat_minor": 2
}
