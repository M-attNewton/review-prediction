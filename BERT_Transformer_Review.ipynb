{
 "cells": [
  {
   "cell_type": "markdown",
   "metadata": {},
   "source": [
    "# Resturant Review Sentiment - Transformer\n",
    "### Matthew Newton\n",
    "* Can a transformer model provide better results?\n",
    "* Imported an existing LLM for review classification \"bert-base-multilingual-uncased-sentiment\".\n",
    "* Tune model on training data.\n",
    "* The training data will be input into this model to predict the review scores."
   ]
  },
  {
   "cell_type": "code",
   "execution_count": 1,
   "metadata": {},
   "outputs": [
    {
     "name": "stderr",
     "output_type": "stream",
     "text": [
      "/Library/Frameworks/Python.framework/Versions/3.12/lib/python3.12/site-packages/tqdm/auto.py:21: TqdmWarning: IProgress not found. Please update jupyter and ipywidgets. See https://ipywidgets.readthedocs.io/en/stable/user_install.html\n",
      "  from .autonotebook import tqdm as notebook_tqdm\n"
     ]
    }
   ],
   "source": [
    "import pandas as pd\n",
    "import torch\n",
    "from transformers import BertTokenizer, BertForSequenceClassification\n",
    "from torch.utils.data import DataLoader, Dataset\n",
    "from sklearn.model_selection import train_test_split\n",
    "from sklearn.metrics import classification_report, accuracy_score, confusion_matrix\n",
    "import numpy as np\n",
    "\n",
    "import warnings\n",
    "warnings.filterwarnings(\"ignore\")"
   ]
  },
  {
   "cell_type": "code",
   "execution_count": 2,
   "metadata": {},
   "outputs": [],
   "source": [
    "df_review = pd.read_pickle(\"./cleaned_data/reviews_cleaned_nltk.pickle\")"
   ]
  },
  {
   "cell_type": "code",
   "execution_count": 3,
   "metadata": {},
   "outputs": [],
   "source": [
    "# Split training data into train data, cross validation and test data\n",
    "#df_review = df_long\n",
    "df_long = df_review\n",
    "df_review = df_review.dropna()\n",
    "df_review['text'] = df_review['title'] + \" \" + df_review['text']\n",
    "df_review = df_review[:100]\n",
    "features = ['text']\n",
    "#features = ['text', 'title', 'type', 'priceInterval', 'date']\n",
    "X_train, X_cv, y_train, y_cv = train_test_split(df_review[features], df_review['rating'], test_size = 0.30, random_state = 0)\n",
    "X_cv, X_test, y_cv, y_test = train_test_split(X_cv[features], y_cv, test_size = 0.50, random_state = 0)"
   ]
  },
  {
   "cell_type": "code",
   "execution_count": 4,
   "metadata": {},
   "outputs": [
    {
     "name": "stdout",
     "output_type": "stream",
     "text": [
      "(70,)\n"
     ]
    }
   ],
   "source": [
    "y_train = np.array(y_train) - 1\n",
    "y_cv = np.array(y_cv) - 1\n",
    "y_test = np.array(y_test) - 1"
   ]
  },
  {
   "cell_type": "code",
   "execution_count": 6,
   "metadata": {},
   "outputs": [],
   "source": [
    "# Extract text data from DataFrame\n",
    "X_train = X_train['text'].values\n",
    "X_cv = X_cv['text'].values\n",
    "X_test = X_test['text'].values"
   ]
  },
  {
   "cell_type": "code",
   "execution_count": 7,
   "metadata": {},
   "outputs": [],
   "source": [
    "from transformers import BertTokenizer\n",
    "import torch\n",
    "\n",
    "tokenizer = BertTokenizer.from_pretrained('nlptown/bert-base-multilingual-uncased-sentiment') # ('bert-base-uncased')\n",
    "\n",
    "def tokenize_data(texts, labels=None, max_len=128):\n",
    "    input_ids = []\n",
    "    attention_masks = []\n",
    "\n",
    "    for text in texts:\n",
    "        encoded_data = tokenizer.encode_plus(\n",
    "            text,\n",
    "            add_special_tokens=True,\n",
    "            max_length=max_len,\n",
    "            padding='max_length',  # Ensure padding to max_len\n",
    "            truncation=True,       # Ensure truncation to max_len\n",
    "            return_attention_mask=True,\n",
    "            return_tensors='pt'    # Return PyTorch tensors\n",
    "        )\n",
    "        input_ids.append(encoded_data['input_ids'].squeeze(0))  # Remove extra dimension\n",
    "        attention_masks.append(encoded_data['attention_mask'].squeeze(0))  # Remove extra dimension\n",
    "\n",
    "    # Concatenate tensors along the batch dimension\n",
    "    input_ids = torch.stack(input_ids)  # Stack tensors along a new dimension\n",
    "    attention_masks = torch.stack(attention_masks)  # Stack tensors along a new dimension\n",
    "\n",
    "    # Convert labels to tensor if provided\n",
    "    if labels is not None:\n",
    "        labels = torch.tensor(labels, dtype=torch.long)\n",
    "        return input_ids, attention_masks, labels\n",
    "    else:\n",
    "        return input_ids, attention_masks\n",
    "\n",
    "# Example usage\n",
    "train_inputs, train_masks, train_labels = tokenize_data(X_train, y_train)\n",
    "val_inputs, val_masks, val_labels = tokenize_data(X_cv, y_cv)\n",
    "test_inputs, test_masks, test_labels = tokenize_data(X_test, y_test)  # Test labels might not be available\n"
   ]
  },
  {
   "cell_type": "code",
   "execution_count": 9,
   "metadata": {},
   "outputs": [],
   "source": [
    "class ReviewDataset(Dataset):\n",
    "    def __init__(self, input_ids, attention_masks, labels):\n",
    "        self.input_ids = input_ids\n",
    "        self.attention_masks = attention_masks\n",
    "        self.labels = labels\n",
    "\n",
    "    def __len__(self):\n",
    "        return len(self.input_ids)\n",
    "\n",
    "    def __getitem__(self, idx):\n",
    "        return {\n",
    "            'input_ids': self.input_ids[idx],\n",
    "            'attention_mask': self.attention_masks[idx],\n",
    "            'labels': self.labels[idx]\n",
    "        }\n",
    "\n",
    "train_dataset = ReviewDataset(train_inputs, train_masks, train_labels)\n",
    "val_dataset = ReviewDataset(val_inputs, val_masks, val_labels)\n",
    "test_dataset = ReviewDataset(test_inputs, test_masks, test_labels)\n",
    "\n",
    "train_dataloader = DataLoader(train_dataset, batch_size=2, shuffle=True)\n",
    "val_dataloader = DataLoader(val_dataset, batch_size=2, shuffle=False)\n",
    "test_dataloader = DataLoader(test_dataset, batch_size=2, shuffle=False)\n"
   ]
  },
  {
   "cell_type": "code",
   "execution_count": 10,
   "metadata": {},
   "outputs": [
    {
     "name": "stdout",
     "output_type": "stream",
     "text": [
      "Train inputs shape: torch.Size([70, 128])\n",
      "Train masks shape: torch.Size([70, 128])\n",
      "Train labels shape: torch.Size([70])\n",
      "Val inputs shape: torch.Size([15, 128])\n",
      "Val masks shape: torch.Size([15, 128])\n",
      "Val labels shape: torch.Size([15])\n",
      "Test inputs shape: torch.Size([15, 128])\n",
      "Test masks shape: torch.Size([15, 128])\n"
     ]
    }
   ],
   "source": [
    "# print(\"Train inputs shape:\", train_inputs.shape)\n",
    "# print(\"Train masks shape:\", train_masks.shape)\n",
    "# print(\"Train labels shape:\", train_labels.shape)\n",
    "\n",
    "# print(\"Val inputs shape:\", val_inputs.shape)\n",
    "# print(\"Val masks shape:\", val_masks.shape)\n",
    "# print(\"Val labels shape:\", val_labels.shape)\n",
    "\n",
    "# print(\"Test inputs shape:\", test_inputs.shape)\n",
    "# print(\"Test masks shape:\", test_masks.shape)"
   ]
  },
  {
   "cell_type": "code",
   "execution_count": 11,
   "metadata": {},
   "outputs": [
    {
     "data": {
      "text/plain": [
       "BertForSequenceClassification(\n",
       "  (bert): BertModel(\n",
       "    (embeddings): BertEmbeddings(\n",
       "      (word_embeddings): Embedding(105879, 768, padding_idx=0)\n",
       "      (position_embeddings): Embedding(512, 768)\n",
       "      (token_type_embeddings): Embedding(2, 768)\n",
       "      (LayerNorm): LayerNorm((768,), eps=1e-12, elementwise_affine=True)\n",
       "      (dropout): Dropout(p=0.1, inplace=False)\n",
       "    )\n",
       "    (encoder): BertEncoder(\n",
       "      (layer): ModuleList(\n",
       "        (0-11): 12 x BertLayer(\n",
       "          (attention): BertAttention(\n",
       "            (self): BertSdpaSelfAttention(\n",
       "              (query): Linear(in_features=768, out_features=768, bias=True)\n",
       "              (key): Linear(in_features=768, out_features=768, bias=True)\n",
       "              (value): Linear(in_features=768, out_features=768, bias=True)\n",
       "              (dropout): Dropout(p=0.1, inplace=False)\n",
       "            )\n",
       "            (output): BertSelfOutput(\n",
       "              (dense): Linear(in_features=768, out_features=768, bias=True)\n",
       "              (LayerNorm): LayerNorm((768,), eps=1e-12, elementwise_affine=True)\n",
       "              (dropout): Dropout(p=0.1, inplace=False)\n",
       "            )\n",
       "          )\n",
       "          (intermediate): BertIntermediate(\n",
       "            (dense): Linear(in_features=768, out_features=3072, bias=True)\n",
       "            (intermediate_act_fn): GELUActivation()\n",
       "          )\n",
       "          (output): BertOutput(\n",
       "            (dense): Linear(in_features=3072, out_features=768, bias=True)\n",
       "            (LayerNorm): LayerNorm((768,), eps=1e-12, elementwise_affine=True)\n",
       "            (dropout): Dropout(p=0.1, inplace=False)\n",
       "          )\n",
       "        )\n",
       "      )\n",
       "    )\n",
       "    (pooler): BertPooler(\n",
       "      (dense): Linear(in_features=768, out_features=768, bias=True)\n",
       "      (activation): Tanh()\n",
       "    )\n",
       "  )\n",
       "  (dropout): Dropout(p=0.1, inplace=False)\n",
       "  (classifier): Linear(in_features=768, out_features=5, bias=True)\n",
       ")"
      ]
     },
     "execution_count": 11,
     "metadata": {},
     "output_type": "execute_result"
    }
   ],
   "source": [
    "model = BertForSequenceClassification.from_pretrained(\n",
    "    'nlptown/bert-base-multilingual-uncased-sentiment', \n",
    "    num_labels=5,  # Number of classes\n",
    "    output_attentions=False,\n",
    "    output_hidden_states=False\n",
    ")\n",
    "\n",
    "# NOT RECOMMENED TO RUN ON CPU, USE COLLAB FOR FREE GPU USAGE\n",
    "# If GPU available, move the model to it\n",
    "device = torch.device('cuda' if torch.cuda.is_available() else 'cpu')\n",
    "model.to(device)\n"
   ]
  },
  {
   "cell_type": "code",
   "execution_count": 12,
   "metadata": {},
   "outputs": [],
   "source": [
    "from transformers import AdamW, get_linear_schedule_with_warmup\n",
    "\n",
    "optimizer = AdamW(model.parameters(), lr=2e-5, eps=1e-8)\n",
    "\n",
    "epochs = 4\n",
    "total_steps = len(train_dataloader) * epochs\n",
    "\n",
    "scheduler = get_linear_schedule_with_warmup(\n",
    "    optimizer, \n",
    "    num_warmup_steps=0, \n",
    "    num_training_steps=total_steps\n",
    ")"
   ]
  },
  {
   "cell_type": "code",
   "execution_count": 13,
   "metadata": {},
   "outputs": [
    {
     "name": "stdout",
     "output_type": "stream",
     "text": [
      "Epoch 1/4\n",
      "Training loss: 1.0032\n",
      "Validation loss: 0.5493\n",
      "Validation Accuracy: 0.7333\n",
      "              precision    recall  f1-score   support\n",
      "\n",
      "           0       1.00      1.00      1.00         1\n",
      "           1       0.00      0.00      0.00         0\n",
      "           2       0.00      0.00      0.00         1\n",
      "           3       0.00      0.00      0.00         3\n",
      "           4       0.77      1.00      0.87        10\n",
      "\n",
      "    accuracy                           0.73        15\n",
      "   macro avg       0.35      0.40      0.37        15\n",
      "weighted avg       0.58      0.73      0.65        15\n",
      "\n",
      "Epoch 2/4\n",
      "Training loss: 0.7178\n",
      "Validation loss: 0.5516\n",
      "Validation Accuracy: 0.7333\n",
      "              precision    recall  f1-score   support\n",
      "\n",
      "           0       1.00      1.00      1.00         1\n",
      "           1       0.00      0.00      0.00         0\n",
      "           2       0.00      0.00      0.00         1\n",
      "           3       0.00      0.00      0.00         3\n",
      "           4       0.77      1.00      0.87        10\n",
      "\n",
      "    accuracy                           0.73        15\n",
      "   macro avg       0.35      0.40      0.37        15\n",
      "weighted avg       0.58      0.73      0.65        15\n",
      "\n",
      "Epoch 3/4\n",
      "Training loss: 0.4979\n",
      "Validation loss: 0.8552\n",
      "Validation Accuracy: 0.8000\n",
      "              precision    recall  f1-score   support\n",
      "\n",
      "           0       1.00      1.00      1.00         1\n",
      "           1       0.00      0.00      0.00         0\n",
      "           2       0.00      0.00      0.00         1\n",
      "           3       0.75      1.00      0.86         3\n",
      "           4       1.00      0.80      0.89        10\n",
      "\n",
      "    accuracy                           0.80        15\n",
      "   macro avg       0.55      0.56      0.55        15\n",
      "weighted avg       0.88      0.80      0.83        15\n",
      "\n",
      "Epoch 4/4\n",
      "Training loss: 0.3430\n",
      "Validation loss: 0.7780\n",
      "Validation Accuracy: 0.8000\n",
      "              precision    recall  f1-score   support\n",
      "\n",
      "           0       1.00      1.00      1.00         1\n",
      "           1       0.00      0.00      0.00         0\n",
      "           2       0.00      0.00      0.00         1\n",
      "           3       0.75      1.00      0.86         3\n",
      "           4       1.00      0.80      0.89        10\n",
      "\n",
      "    accuracy                           0.80        15\n",
      "   macro avg       0.55      0.56      0.55        15\n",
      "weighted avg       0.88      0.80      0.83        15\n",
      "\n"
     ]
    }
   ],
   "source": [
    "from torch.nn import CrossEntropyLoss\n",
    "\n",
    "loss_fn = CrossEntropyLoss()\n",
    "\n",
    "def train(model, train_dataloader, val_dataloader):\n",
    "    for epoch in range(epochs):\n",
    "        model.train()\n",
    "        total_loss = 0\n",
    "        for batch in train_dataloader:\n",
    "            optimizer.zero_grad()\n",
    "\n",
    "            input_ids = batch['input_ids'].to(device)\n",
    "            attention_mask = batch['attention_mask'].to(device)\n",
    "            labels = batch['labels'].to(device)\n",
    "\n",
    "            outputs = model(\n",
    "                input_ids=input_ids,\n",
    "                attention_mask=attention_mask,\n",
    "                labels=labels\n",
    "            )\n",
    "\n",
    "            loss = outputs.loss\n",
    "            total_loss += loss.item()\n",
    "\n",
    "            loss.backward()\n",
    "            optimizer.step()\n",
    "            scheduler.step()\n",
    "\n",
    "        avg_train_loss = total_loss / len(train_dataloader)\n",
    "\n",
    "        print(f\"Epoch {epoch + 1}/{epochs}\")\n",
    "        print(f\"Training loss: {avg_train_loss:.4f}\")\n",
    "\n",
    "        eval_model(model, val_dataloader)\n",
    "\n",
    "def eval_model(model, val_dataloader):\n",
    "    model.eval()\n",
    "    val_loss = 0\n",
    "    predictions, true_labels = [], []\n",
    "\n",
    "    with torch.no_grad():\n",
    "        for batch in val_dataloader:\n",
    "            input_ids = batch['input_ids'].to(device)\n",
    "            attention_mask = batch['attention_mask'].to(device)\n",
    "            labels = batch['labels'].to(device)\n",
    "\n",
    "            outputs = model(\n",
    "                input_ids=input_ids,\n",
    "                attention_mask=attention_mask,\n",
    "                labels=labels\n",
    "            )\n",
    "\n",
    "            loss = outputs.loss\n",
    "            val_loss += loss.item()\n",
    "\n",
    "            logits = outputs.logits\n",
    "            predictions.extend(torch.argmax(logits, dim=1).cpu().numpy())\n",
    "            true_labels.extend(labels.cpu().numpy())\n",
    "\n",
    "    avg_val_loss = val_loss / len(val_dataloader)\n",
    "    accuracy = accuracy_score(true_labels, predictions)\n",
    "\n",
    "    print(f\"Validation loss: {avg_val_loss:.4f}\")\n",
    "    print(f\"Validation Accuracy: {accuracy:.4f}\")\n",
    "    print(classification_report(true_labels, predictions))\n",
    "\n",
    "train(model, train_dataloader, val_dataloader)"
   ]
  },
  {
   "cell_type": "code",
   "execution_count": 14,
   "metadata": {},
   "outputs": [],
   "source": [
    "# Predict\n",
    "model.eval()\n",
    "test_predictions = []\n",
    "\n",
    "with torch.no_grad():\n",
    "    for batch in test_dataloader:\n",
    "        input_ids = batch['input_ids'].to(device)\n",
    "        attention_mask = batch['attention_mask'].to(device)\n",
    "\n",
    "        outputs = model(input_ids=input_ids, attention_mask=attention_mask)\n",
    "        logits = outputs.logits\n",
    "        test_predictions.extend(torch.argmax(logits, dim=1).cpu().numpy())"
   ]
  },
  {
   "cell_type": "code",
   "execution_count": 15,
   "metadata": {},
   "outputs": [
    {
     "name": "stdout",
     "output_type": "stream",
     "text": [
      "[5 2 4 5 5 2 4 4 5 4 4 1 4 5 5]\n",
      "[5 1 4 5 5 4 5 4 5 4 3 1 4 5 4]\n"
     ]
    }
   ],
   "source": [
    "y_test_pred = np.array(test_predictions) + 1\n",
    "y_test = y_test + 1\n",
    "print(y_test_pred)\n",
    "print(y_test)"
   ]
  },
  {
   "cell_type": "code",
   "execution_count": 16,
   "metadata": {},
   "outputs": [
    {
     "name": "stdout",
     "output_type": "stream",
     "text": [
      "Accuracy: 0.6666666666666666\n",
      "\n",
      "Classification Report:\n",
      "               precision    recall  f1-score   support\n",
      "\n",
      "           1       1.00      0.50      0.67         2\n",
      "           2       0.00      0.00      0.00         0\n",
      "           3       0.00      0.00      0.00         1\n",
      "           4       0.67      0.67      0.67         6\n",
      "           5       0.83      0.83      0.83         6\n",
      "\n",
      "    accuracy                           0.67        15\n",
      "   macro avg       0.50      0.40      0.43        15\n",
      "weighted avg       0.73      0.67      0.69        15\n",
      "\n",
      "\n",
      "Confusion Matrix:\n",
      " [[1 1 0 0 0]\n",
      " [0 0 0 0 0]\n",
      " [0 0 0 1 0]\n",
      " [0 1 0 4 1]\n",
      " [0 0 0 1 5]]\n"
     ]
    }
   ],
   "source": [
    "# Evaluation metrics\n",
    "print(\"Accuracy:\", accuracy_score(y_test, y_test_pred))\n",
    "print(\"\\nClassification Report:\\n\", classification_report(y_test, y_test_pred))\n",
    "print(\"\\nConfusion Matrix:\\n\", confusion_matrix(y_test, y_test_pred))"
   ]
  },
  {
   "cell_type": "code",
   "execution_count": null,
   "metadata": {},
   "outputs": [],
   "source": []
  }
 ],
 "metadata": {
  "kernelspec": {
   "display_name": "Python 3 (ipykernel)",
   "language": "python",
   "name": "python3"
  },
  "language_info": {
   "codemirror_mode": {
    "name": "ipython",
    "version": 3
   },
   "file_extension": ".py",
   "mimetype": "text/x-python",
   "name": "python",
   "nbconvert_exporter": "python",
   "pygments_lexer": "ipython3",
   "version": "3.12.4"
  }
 },
 "nbformat": 4,
 "nbformat_minor": 2
}
